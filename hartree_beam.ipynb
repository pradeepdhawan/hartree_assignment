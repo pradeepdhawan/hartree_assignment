{
 "cells": [
  {
   "cell_type": "markdown",
   "metadata": {},
   "source": [
    "## Requirement"
   ]
  },
  {
   "cell_type": "markdown",
   "metadata": {},
   "source": [
    "Please do same exercise using two different framework.\n",
    "\n",
    "Framework 1. pandas\n",
    "framework 2. apache beam python https://beam.apache.org/documentation/sdks/python/\n",
    "\n",
    "\n",
    "using two input files dataset1 and dataset2 \n",
    "\n",
    "join dataset1 with dataset2 and get tier\n",
    "\n",
    "generate below output file\n",
    "\n",
    "legal_entity, counterparty, tier, max(rating by counterparty), sum(value where status=ARAP), sum(value where status=ACCR)\n",
    "\n",
    "Also create new record to add total for each of legal entity, counterparty & tier.\n",
    "\n",
    "Sample data:\n",
    "legal_entity, counterparty, tier, max(rating by counterparty), sum(value where status=ARAP), sum(value where status=ACCR)\n",
    "L1,Total, Total, calculated_value, calculated_value,calculated_value\n",
    "L1, C1, Total,calculated_value, calculated_value,calculated_value\n",
    "Total,C1,Total,calculated_value, calculated_value,calculated_value\n",
    "Total,Total,1,calculated_value, calculated_value,calculated_value\n",
    "L2,Total,Total,calculated_value, calculated_value,calculated_value\n",
    "....\n",
    "like all other values.\n",
    "\n",
    "where calculated_value in sample data needs to be calculated using above method."
   ]
  },
  {
   "cell_type": "markdown",
   "metadata": {},
   "source": [
    "## Initialize"
   ]
  },
  {
   "cell_type": "code",
   "execution_count": 55,
   "metadata": {},
   "outputs": [],
   "source": [
    "import os\n",
    "import apache_beam as beam\n",
    "from typing import NamedTuple"
   ]
  },
  {
   "cell_type": "markdown",
   "metadata": {},
   "source": [
    "Helper Classes and Methods\n",
    "1. Class *CustomSumAndMaxFn* that does:\n",
    "    - Calculates the maximum rating by counter_party (after grouping on \"legal_entity\", \"counter_party\", \"tier\")\n",
    "    - Calculates the sum of values where status is \"ARAP\" (after grouping on \"legal_entity\", \"counter_party\", \"tier\")\n",
    "    - Calculates the sum of values where status is \"ACCR\" (after grouping on \"legal_entity\", \"counter_party\", \"tier\")\n",
    "    - Calculates the total count of values (after grouping on \"legal_entity\", \"counter_party\", \"tier\")"
   ]
  },
  {
   "cell_type": "code",
   "execution_count": 56,
   "metadata": {},
   "outputs": [],
   "source": [
    "class CustomSumAndMaxFn(beam.CombineFn):\n",
    "    def create_accumulator(self):\n",
    "        return {\n",
    "            \"legal_entity\": None,\n",
    "            \"counter_party\": None,\n",
    "            \"tier\": int(0),\n",
    "            \"max(rating by counterparty)\": int(0),\n",
    "            \"sum(value where status=ARAP)\": float(0),\n",
    "            \"sum(value where status=ACCR)\": float(0),\n",
    "            \"Total(count with same legal_entity, counter_party,tier)\": int(0)\n",
    "        }\n",
    "\n",
    "    def add_input(self, accumulator_dict, input_value):\n",
    "        legal_entity, counter_party, tier, rating, status, value = input_value\n",
    "\n",
    "        accumulator_dict[\"legal_entity\"] = legal_entity\n",
    "        accumulator_dict[\"counter_party\"] = counter_party\n",
    "        accumulator_dict[\"tier\"] = tier\n",
    "        accumulator_dict[\"Total(count with same legal_entity, counter_party,tier)\"] +=1\n",
    "\n",
    "        if \"sum(value where status=\" + status + \")\" in accumulator_dict.keys():\n",
    "            accumulator_dict[\"sum(value where status=\" + status + \")\"] += value\n",
    "        else:\n",
    "            accumulator_dict[\"sum(value where status=\" + status + \")\"] = value\n",
    "\n",
    "        accumulator_dict[\"max(rating by counterparty)\"] = max(accumulator_dict[\"max(rating by counterparty)\"], rating)\n",
    "        return accumulator_dict\n",
    "\n",
    "    def merge_accumulators(self, accumulator_dicts):\n",
    "        merged_accumulator_dict = self.create_accumulator()\n",
    "        for accumulator_dict in accumulator_dicts:\n",
    "            merged_accumulator_dict[\"legal_entity\"] = accumulator_dict[\"legal_entity\"]\n",
    "            merged_accumulator_dict[\"counter_party\"] = accumulator_dict[\"counter_party\"]\n",
    "            merged_accumulator_dict[\"tier\"] = accumulator_dict[\"tier\"]\n",
    "            merged_accumulator_dict[\"max(rating by counterparty)\"] = max(\n",
    "                merged_accumulator_dict[\"max(rating by counterparty)\"],\n",
    "                accumulator_dict[\"max(rating by counterparty)\"])\n",
    "            merged_accumulator_dict[\"sum(value where status=ARAP)\"] += accumulator_dict[\"sum(value where status=ARAP)\"]\n",
    "            merged_accumulator_dict[\"sum(value where status=ACCR)\"] += accumulator_dict[\"sum(value where status=ACCR)\"]\n",
    "            merged_accumulator_dict[\"Total(count with same legal_entity, counter_party,tier)\"] += accumulator_dict[\"Total(count with same legal_entity, counter_party,tier)\"]\n",
    "        return merged_accumulator_dict\n",
    "\n",
    "    def extract_output(self, accumulator_dict):\n",
    "        return f'{accumulator_dict[\"legal_entity\"]}, \\\n",
    "            {accumulator_dict[\"counter_party\"]}, \\\n",
    "            {accumulator_dict[\"tier\"]}, \\\n",
    "            {accumulator_dict[\"max(rating by counterparty)\"]}, \\\n",
    "            {accumulator_dict[\"sum(value where status=ARAP)\"]}, \\\n",
    "            {accumulator_dict[\"sum(value where status=ACCR)\"]}, \\\n",
    "            {accumulator_dict[\"Total(count with same legal_entity, counter_party,tier)\"]}'"
   ]
  },
  {
   "cell_type": "markdown",
   "metadata": {},
   "source": [
    "## Main pipeline"
   ]
  },
  {
   "cell_type": "markdown",
   "metadata": {},
   "source": [
    "This pipeline does:\n",
    "1. Initialize PCollection of dataset1 and loads CSV \n",
    "2. Initialize PCollection of dataset2 and loads CSV\n",
    "3. Joins the two dataset on counter_party (note 3rd column in dataset1 and first column in dataset2 is counter_party) using CoGroupByKey\n",
    "4. Combine data for the two dataset using method *combine_data_for_datasets*\n",
    "5. Invokes custom accumulator method that can then do 4 operation (max, sum of ACCR, sum of ARAP, Total)\n",
    "\n"
   ]
  },
  {
   "cell_type": "code",
   "execution_count": 57,
   "metadata": {},
   "outputs": [
    {
     "data": {
      "text/plain": [
       "'legal_entity, counter_party, tier, max(rating by counterparty), sum(value where status=ARAP), sum(value where status=ACCR), Total(count with same legal_entity, counter_party,tier)'"
      ]
     },
     "metadata": {},
     "output_type": "display_data"
    },
    {
     "name": "stdout",
     "output_type": "stream",
     "text": [
      "L1,             C1,             1,             3,             40.0,             0.0,             3\n",
      "L2,             C2,             2,             3,             20.0,             40.0,             2\n",
      "L3,             C3,             3,             4,             0.0,             145.0,             3\n",
      "L2,             C3,             3,             2,             0.0,             52.0,             1\n",
      "L1,             C3,             3,             6,             5.0,             0.0,             1\n",
      "L1,             C4,             4,             6,             40.0,             100.0,             2\n",
      "L2,             C5,             5,             6,             1000.0,             115.0,             3\n",
      "L3,             C6,             6,             6,             145.0,             60.0,             3\n"
     ]
    }
   ],
   "source": [
    "with beam.Pipeline() as pipeline:\n",
    "    dataset1 = (\n",
    "        pipeline\n",
    "        | \"Read Dataset1\"\n",
    "        >> beam.io.ReadFromText(\"data/dataset1.csv\", skip_header_lines=1)\n",
    "        | \"Parse Dataset1\" >> beam.Map(lambda line: line.split(\",\"))\n",
    "    )\n",
    "\n",
    "    dataset2 = (\n",
    "        pipeline\n",
    "        | \"Read Dataset2\"\n",
    "        >> beam.io.ReadFromText(\"data/dataset2.csv\", skip_header_lines=1)\n",
    "        | \"Parse Dataset2\" >> beam.Map(lambda line: line.split(\",\"))\n",
    "    )\n",
    "\n",
    "    dataset1_keyed = dataset1 | \"Key by Counterparty dataset 1\" >> beam.Map(\n",
    "        lambda row: (row[2], row)\n",
    "    )\n",
    "\n",
    "    dataset2_keyed = dataset2 | \"Key by Counterparty  dataset 2\" >> beam.Map(\n",
    "        lambda row: (row[0], row)\n",
    "    )\n",
    "\n",
    "    # Group and join dataset1 and dataset2 on 'counter_party'\n",
    "    grouped_data = {\n",
    "        \"dataset1\": dataset1_keyed,\n",
    "        \"dataset2\": dataset2_keyed,\n",
    "    } | \"CoGroup Join\" >> beam.CoGroupByKey()\n",
    "\n",
    "    def combine_data_for_datasets(element):\n",
    "        _, data = element\n",
    "        dataset1_data = data[\"dataset1\"]\n",
    "        dataset2_data = data[\"dataset2\"]\n",
    "\n",
    "        for set1 in dataset1_data:\n",
    "            _, legal_entity, counter_party, rating, status, value = set1\n",
    "            for set2 in dataset2_data:\n",
    "                counter_party, tier = set2\n",
    "                yield (legal_entity, counter_party, int(tier), int(rating), status, float(value))\n",
    "\n",
    "    joined_data = grouped_data | \"Combine Data\" >> beam.FlatMap(\n",
    "        combine_data_for_datasets\n",
    "    )\n",
    "\n",
    "    # Group and calculate the sum of 'rating' and max of 'value' by 'legal_entity', 'counter_party', and 'tier'\n",
    "    # with condition of status\n",
    "    grouped_data = (\n",
    "        joined_data\n",
    "        | \"Group by Key\" >> beam.Map(lambda x: ((x[0], x[1], x[2]), x))\n",
    "        | \"Group and Combine\" >> beam.CombinePerKey(CustomSumAndMaxFn())\n",
    "        | \"Only Value\" >> beam.Map(lambda x: x[1])\n",
    "    )\n",
    "\n",
    "    display(\"legal_entity, counter_party, tier, max(rating by counterparty), sum(value where status=ARAP), sum(value where status=ACCR), Total(count with same legal_entity, counter_party,tier)\")\n",
    "    grouped_data | beam.LogElements()"
   ]
  }
 ],
 "metadata": {
  "kernelspec": {
   "display_name": ".venv",
   "language": "python",
   "name": "python3"
  },
  "language_info": {
   "codemirror_mode": {
    "name": "ipython",
    "version": 3
   },
   "file_extension": ".py",
   "mimetype": "text/x-python",
   "name": "python",
   "nbconvert_exporter": "python",
   "pygments_lexer": "ipython3",
   "version": "3.10.1"
  }
 },
 "nbformat": 4,
 "nbformat_minor": 2
}
